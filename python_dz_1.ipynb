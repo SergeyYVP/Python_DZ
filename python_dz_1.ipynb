{
 "cells": [
  {
   "cell_type": "code",
   "execution_count": 89,
   "metadata": {},
   "outputs": [],
   "source": [
    "# Задание 1"
   ]
  },
  {
   "cell_type": "code",
   "execution_count": 27,
   "metadata": {},
   "outputs": [
    {
     "data": {
      "text/plain": [
       "True"
      ]
     },
     "execution_count": 27,
     "metadata": {},
     "output_type": "execute_result"
    }
   ],
   "source": [
    "long_phrase = 'Насколько проще было бы писать программы, если бы не заказчики'\n",
    "short_phrase = '640Кб должно хватить для любых задач. Билл Гейтс (по легенде)'\n",
    "\n",
    "def compare_phrases(phrase_1, phrase_2):\n",
    "    return len(phrase_1) > len(phrase_2)\n",
    "\n",
    "compare_phrases(long_phrase, short_phrase)"
   ]
  },
  {
   "cell_type": "code",
   "execution_count": 28,
   "metadata": {},
   "outputs": [],
   "source": [
    "# Задание 2"
   ]
  },
  {
   "cell_type": "code",
   "execution_count": 43,
   "metadata": {},
   "outputs": [
    {
     "data": {
      "text/plain": [
       "'а'"
      ]
     },
     "execution_count": 43,
     "metadata": {},
     "output_type": "execute_result"
    }
   ],
   "source": [
    "text = 'Если программист в 9-00 утра на работе, значит, он там и ночевал'\n",
    "letter_1 = 'а'\n",
    "letter_2 = 'и'\n",
    "\n",
    "def more_frequent_letter(letter_1, letter_2, text):\n",
    "    count = 0\n",
    "    for letter in text.lower():\n",
    "        if letter == letter_1:\n",
    "            count += 1\n",
    "        elif letter == letter_2:\n",
    "            count -= 1\n",
    "    if count == 0: return \"Кол-во букв 'а' = кол-ву букв 'б'\"\n",
    "    return letter_1 if count > 0 else letter_2\n",
    "    \n",
    "more_frequent_letter(letter_1, letter_2, text)"
   ]
  },
  {
   "cell_type": "code",
   "execution_count": 44,
   "metadata": {},
   "outputs": [],
   "source": [
    "# Задание 3"
   ]
  },
  {
   "cell_type": "code",
   "execution_count": 45,
   "metadata": {},
   "outputs": [
    {
     "data": {
      "text/plain": [
       "'Объем файла равен 0.11Mb'"
      ]
     },
     "execution_count": 45,
     "metadata": {},
     "output_type": "execute_result"
    }
   ],
   "source": [
    "def size_convert(size_init):\n",
    "    if len(str(size_init)) > 5:\n",
    "        znak_quant = 2  # znak_quant - кол-во знаков после запятой при форматировании.\n",
    "    else:\n",
    "        znak_quant = 8 - len(str(size_init))\n",
    "    return f'Объем файла равен {size_init/1024**2:.{znak_quant}f}Mb'\n",
    "\n",
    "size_convert(120560)"
   ]
  },
  {
   "cell_type": "code",
   "execution_count": 46,
   "metadata": {},
   "outputs": [],
   "source": [
    "#Задание 4"
   ]
  },
  {
   "cell_type": "code",
   "execution_count": 47,
   "metadata": {},
   "outputs": [
    {
     "data": {
      "text/plain": [
       "0.5"
      ]
     },
     "execution_count": 47,
     "metadata": {},
     "output_type": "execute_result"
    }
   ],
   "source": [
    "import math\n",
    "\n",
    "round(math.sin(2*math.pi*30/360), 6)"
   ]
  },
  {
   "cell_type": "code",
   "execution_count": 48,
   "metadata": {},
   "outputs": [],
   "source": [
    "#Задание 5"
   ]
  },
  {
   "cell_type": "markdown",
   "metadata": {},
   "source": [
    "Т.к. компьютер ведет расчеты в двоичной системе счисления, все числа представляются в виде двоичных дробей.\n",
    "Точно так же десятичное число можно представить в виде десятичных дробей: 0.3 = 3*1/10, 0.345 = 3*1/10 + 4*1/100 + 5*1/1000.\n",
    "Десятичные числа 0.1, 0.2 и 0.3 не могут быть точно выражены в виде двоичных дробей. Так же как число 1/3 не может\n",
    "быть точно выражено с помощью десятичных дробей: 1/3 = 3/10 + 3/100 + 3/1000 + ... = 0.(3).\n",
    "bin(0.3) = 0*1/2 + 1*1/4 + 0*1/8 + 0*1/16 + 1*1/32 + 1*1/64 + ... = 0.0(1001)\n",
    "Результат 0.1 + 0.2 выводится с апроксимацией."
   ]
  },
  {
   "cell_type": "code",
   "execution_count": 49,
   "metadata": {},
   "outputs": [
    {
     "data": {
      "text/plain": [
       "0.30000000000000004"
      ]
     },
     "execution_count": 49,
     "metadata": {},
     "output_type": "execute_result"
    }
   ],
   "source": [
    "0.1 + 0.2"
   ]
  },
  {
   "cell_type": "code",
   "execution_count": 50,
   "metadata": {},
   "outputs": [],
   "source": [
    "# Задание 6"
   ]
  },
  {
   "cell_type": "code",
   "execution_count": 51,
   "metadata": {},
   "outputs": [
    {
     "name": "stdout",
     "output_type": "stream",
     "text": [
      "a = 5\n",
      "b = 3\n"
     ]
    }
   ],
   "source": [
    "a = 3\n",
    "b = 5\n",
    "a, b = b, a\n",
    "print('a = ' + str(a) + '\\nb = ' + str(b))"
   ]
  },
  {
   "cell_type": "code",
   "execution_count": 52,
   "metadata": {},
   "outputs": [
    {
     "name": "stdout",
     "output_type": "stream",
     "text": [
      "a = 5\n",
      "b = 3\n"
     ]
    }
   ],
   "source": [
    "# Или\n",
    "a = 3\n",
    "b = 5\n",
    "a = a + b\n",
    "b = a - b\n",
    "a = a - b\n",
    "print('a = ' + str(a) + '\\nb = ' + str(b))"
   ]
  },
  {
   "cell_type": "code",
   "execution_count": 53,
   "metadata": {},
   "outputs": [],
   "source": [
    "# Задание 6"
   ]
  },
  {
   "cell_type": "code",
   "execution_count": 54,
   "metadata": {},
   "outputs": [
    {
     "data": {
      "text/plain": [
       "19"
      ]
     },
     "execution_count": 54,
     "metadata": {},
     "output_type": "execute_result"
    }
   ],
   "source": [
    "num = 10011\n",
    "def bin_to_dec(num):\n",
    "    return sum([int(val)*2**(len(str(num))-pos-1) for pos, val in enumerate(str(num))])\n",
    "\n",
    "bin_to_dec(num)"
   ]
  }
 ],
 "metadata": {
  "kernelspec": {
   "display_name": "Python 3",
   "language": "python",
   "name": "python3"
  },
  "language_info": {
   "codemirror_mode": {
    "name": "ipython",
    "version": 3
   },
   "file_extension": ".py",
   "mimetype": "text/x-python",
   "name": "python",
   "nbconvert_exporter": "python",
   "pygments_lexer": "ipython3",
   "version": "3.6.5"
  }
 },
 "nbformat": 4,
 "nbformat_minor": 2
}
