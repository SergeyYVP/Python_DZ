{
 "cells": [
  {
   "cell_type": "code",
   "execution_count": 28,
   "metadata": {},
   "outputs": [],
   "source": [
    "# Задание 1"
   ]
  },
  {
   "cell_type": "code",
   "execution_count": 29,
   "metadata": {},
   "outputs": [
    {
     "data": {
      "text/plain": [
       "[{'visit1': ['Москва', 'Россия']},\n",
       " {'visit3': ['Владимир', 'Россия']},\n",
       " {'visit7': ['Тула', 'Россия']},\n",
       " {'visit8': ['Тула', 'Россия']},\n",
       " {'visit9': ['Курск', 'Россия']},\n",
       " {'visit10': ['Архангельск', 'Россия']}]"
      ]
     },
     "execution_count": 29,
     "metadata": {},
     "output_type": "execute_result"
    }
   ],
   "source": [
    "geo_logs = [\n",
    "{'visit1': ['Москва', 'Россия']},\n",
    "\n",
    "{'visit2': ['Дели', 'Индия']},\n",
    "\n",
    "{'visit3': ['Владимир', 'Россия']},\n",
    "\n",
    "{'visit4': ['Лиссабон', 'Португалия']},\n",
    "\n",
    "{'visit5': ['Париж', 'Франция']},\n",
    "\n",
    "{'visit6': ['Лиссабон', 'Португалия']},\n",
    "\n",
    "{'visit7': ['Тула', 'Россия']},\n",
    "\n",
    "{'visit8': ['Тула', 'Россия']},\n",
    "\n",
    "{'visit9': ['Курск', 'Россия']},\n",
    "\n",
    "{'visit10': ['Архангельск', 'Россия']},\n",
    "]\n",
    "\n",
    "filtered_geo_logs = [log for log in geo_logs if 'Россия' in list(log.values())[0]]\n",
    "filtered_geo_logs"
   ]
  },
  {
   "cell_type": "code",
   "execution_count": null,
   "metadata": {},
   "outputs": [],
   "source": [
    "# Задание 2"
   ]
  },
  {
   "cell_type": "code",
   "execution_count": 83,
   "metadata": {},
   "outputs": [
    {
     "data": {
      "text/plain": [
       "[98, 35, 15, 213, 54, 119]"
      ]
     },
     "execution_count": 83,
     "metadata": {},
     "output_type": "execute_result"
    }
   ],
   "source": [
    "unique_ids = set(num for id in ids.values() for num in id)\n",
    "list(unique_ids)"
   ]
  },
  {
   "cell_type": "code",
   "execution_count": 84,
   "metadata": {},
   "outputs": [],
   "source": [
    "#Или"
   ]
  },
  {
   "cell_type": "code",
   "execution_count": 86,
   "metadata": {},
   "outputs": [
    {
     "data": {
      "text/plain": [
       "[98, 35, 213, 54, 119, 15]"
      ]
     },
     "execution_count": 86,
     "metadata": {},
     "output_type": "execute_result"
    }
   ],
   "source": [
    "unique_ids = set() \n",
    "for id in ids.values():\n",
    "    unique_ids.update(set(id))\n",
    "list(unique_ids)"
   ]
  },
  {
   "cell_type": "code",
   "execution_count": 244,
   "metadata": {},
   "outputs": [],
   "source": [
    "# Задание 3"
   ]
  },
  {
   "cell_type": "code",
   "execution_count": 87,
   "metadata": {},
   "outputs": [
    {
     "name": "stdout",
     "output_type": "stream",
     "text": [
      "поисковый запрос в 3 слова - 57.14%\n",
      "поисковый запрос в 2 слова - 42.86%\n"
     ]
    }
   ],
   "source": [
    "queries = [\n",
    "\n",
    "'смотреть сериалы онлайн',\n",
    "\n",
    "'новости спорта',\n",
    "\n",
    "'афиша кино',\n",
    "\n",
    "'курс доллара',\n",
    "\n",
    "'сериалы этим летом',\n",
    "\n",
    "'курс по питону',\n",
    "\n",
    "'сериалы про спорт',\n",
    "\n",
    "]\n",
    "\n",
    "from collections import defaultdict\n",
    "\n",
    "query_len_count = defaultdict(int)\n",
    "count_sum = len(queries)\n",
    "\n",
    "for querie in queries:\n",
    "    key = len(querie.split())\n",
    "    query_len_count[key] += 1\n",
    "\n",
    "for query_len, count in query_len_count.items():\n",
    "    print(f'поисковый запрос в {query_len} слова - {count/count_sum*100:.2f}%')\n",
    "    "
   ]
  },
  {
   "cell_type": "code",
   "execution_count": 88,
   "metadata": {},
   "outputs": [],
   "source": [
    "#Или"
   ]
  },
  {
   "cell_type": "code",
   "execution_count": 89,
   "metadata": {},
   "outputs": [
    {
     "name": "stdout",
     "output_type": "stream",
     "text": [
      "поисковый запрос в 3 слова - 57.14%\n",
      "поисковый запрос в 2 слова - 42.86%\n"
     ]
    }
   ],
   "source": [
    "from collections import Counter\n",
    "\n",
    "query_len_count = Counter(len(querie.split()) for querie in queries)\n",
    "count_sum = len(queries)\n",
    "\n",
    "for query_len, count in query_len_count.items():\n",
    "    print(f'поисковый запрос в {query_len} слова - {count/count_sum*100:.2f}%')"
   ]
  },
  {
   "cell_type": "code",
   "execution_count": 46,
   "metadata": {},
   "outputs": [],
   "source": [
    "# Задание 4"
   ]
  },
  {
   "cell_type": "code",
   "execution_count": 90,
   "metadata": {},
   "outputs": [
    {
     "data": {
      "text/plain": [
       "'yandex'"
      ]
     },
     "execution_count": 90,
     "metadata": {},
     "output_type": "execute_result"
    }
   ],
   "source": [
    "stats = {'facebook': 55, 'yandex': 120, 'vk': 115, 'google': 99, 'email': 42, 'ok': 98}\n",
    "\n",
    "max(stats, key=stats.get)"
   ]
  },
  {
   "cell_type": "code",
   "execution_count": 29,
   "metadata": {},
   "outputs": [],
   "source": [
    "# Задание 5 "
   ]
  },
  {
   "cell_type": "code",
   "execution_count": 91,
   "metadata": {},
   "outputs": [
    {
     "data": {
      "text/plain": [
       "23.25"
      ]
     },
     "execution_count": 91,
     "metadata": {},
     "output_type": "execute_result"
    }
   ],
   "source": [
    "stream = [\n",
    "\n",
    "'2018-01-01,user1,3',\n",
    "\n",
    "'2018-01-07,user1,4',\n",
    "\n",
    "'2018-03-29,user1,1',\n",
    "\n",
    "'2018-04-04,user1,13',\n",
    "\n",
    "'2018-01-05,user2,7',\n",
    "\n",
    "'2018-06-14,user3,4',\n",
    "\n",
    "'2018-07-02,user3,10',\n",
    "\n",
    "'2018-03-21,user4,19',\n",
    "\n",
    "'2018-03-22,user4,4',\n",
    "\n",
    "'2018-04-22,user4,8',\n",
    "\n",
    "'2018-05-03,user4,9',\n",
    "\n",
    "'2018-05-11,user4,11',\n",
    "\n",
    "]\n",
    "\n",
    "#общее количество просмотров\n",
    "views = sum(int(log.rsplit(',', 1)[-1]) for log in stream)\n",
    "\n",
    "#количество уникальных пользователей\n",
    "unique_users = set()\n",
    "for log in stream:\n",
    "    unique_users.add(log.split(',')[-2])\n",
    "    \n",
    "views/len(unique_users)"
   ]
  },
  {
   "cell_type": "code",
   "execution_count": 31,
   "metadata": {},
   "outputs": [],
   "source": [
    "# Задание 6"
   ]
  },
  {
   "cell_type": "code",
   "execution_count": 92,
   "metadata": {},
   "outputs": [
    {
     "data": {
      "text/plain": [
       "249"
      ]
     },
     "execution_count": 92,
     "metadata": {},
     "output_type": "execute_result"
    }
   ],
   "source": [
    "stats = [\n",
    "\n",
    "['2018-01-01', 'google', 25],\n",
    "\n",
    "['2018-01-01', 'yandex', 65],\n",
    "\n",
    "['2018-01-01', 'market', 89],\n",
    "\n",
    "['2018-01-02', 'google', 574],\n",
    "\n",
    "['2018-01-02', 'yandex', 249],\n",
    "\n",
    "['2018-01-02', 'market', 994],\n",
    "\n",
    "['2018-01-03', 'google', 1843],\n",
    "\n",
    "['2018-01-03', 'yandex', 1327],\n",
    "\n",
    "['2018-01-03', 'market', 1764],\n",
    "\n",
    "]\n",
    "\n",
    "def find_num(data: str, company: str, stats):\n",
    "    try:\n",
    "        return next(stroke[-1] for stroke in stats if [data, company] == stroke[:2])\n",
    "    except StopIteration:\n",
    "        print('Нет данных')\n",
    "\n",
    "find_num('2018-01-02', 'yandex', stats)"
   ]
  },
  {
   "cell_type": "code",
   "execution_count": 93,
   "metadata": {},
   "outputs": [
    {
     "ename": "NameError",
     "evalue": "name 'lst' is not defined",
     "output_type": "error",
     "traceback": [
      "\u001b[0;31m---------------------------------------------------------------------------\u001b[0m",
      "\u001b[0;31mNameError\u001b[0m                                 Traceback (most recent call last)",
      "\u001b[0;32m<ipython-input-93-3269b127be9a>\u001b[0m in \u001b[0;36m<module>\u001b[0;34m()\u001b[0m\n\u001b[1;32m      6\u001b[0m         \u001b[0mprint\u001b[0m\u001b[0;34m(\u001b[0m\u001b[0;34m'Нет данных'\u001b[0m\u001b[0;34m)\u001b[0m\u001b[0;34m\u001b[0m\u001b[0m\n\u001b[1;32m      7\u001b[0m \u001b[0;34m\u001b[0m\u001b[0m\n\u001b[0;32m----> 8\u001b[0;31m \u001b[0mfind_num\u001b[0m\u001b[0;34m(\u001b[0m\u001b[0mlst\u001b[0m\u001b[0;34m,\u001b[0m \u001b[0mstats\u001b[0m\u001b[0;34m)\u001b[0m\u001b[0;34m\u001b[0m\u001b[0m\n\u001b[0m",
      "\u001b[0;31mNameError\u001b[0m: name 'lst' is not defined"
     ]
    }
   ],
   "source": [
    "#Обобщенный вариант\n",
    "def find_num(lst: list, stats):\n",
    "    try:\n",
    "        return next(stroke[-1] for stroke in stats if lst == stroke[:n-1])\n",
    "    except StopIteration:\n",
    "        print('Нет данных')\n",
    "\n",
    "find_num(lst, stats)"
   ]
  },
  {
   "cell_type": "code",
   "execution_count": null,
   "metadata": {},
   "outputs": [],
   "source": []
  }
 ],
 "metadata": {
  "kernelspec": {
   "display_name": "Python 3",
   "language": "python",
   "name": "python3"
  },
  "language_info": {
   "codemirror_mode": {
    "name": "ipython",
    "version": 3
   },
   "file_extension": ".py",
   "mimetype": "text/x-python",
   "name": "python",
   "nbconvert_exporter": "python",
   "pygments_lexer": "ipython3",
   "version": "3.7.0"
  }
 },
 "nbformat": 4,
 "nbformat_minor": 2
}
