{
 "cells": [
  {
   "cell_type": "markdown",
   "metadata": {},
   "source": [
    "Задание 1\n",
    "\n",
    "Напишите функцию date_range, которая возвращает список дней между датами start_date и end_date. Даты должны вводиться в формате YYYY-MM-DD."
   ]
  },
  {
   "cell_type": "code",
   "execution_count": 70,
   "metadata": {},
   "outputs": [
    {
     "data": {
      "text/plain": [
       "['2017-03-15', '2017-03-16', '2017-03-17', '2017-03-18', '2017-03-19']"
      ]
     },
     "execution_count": 70,
     "metadata": {},
     "output_type": "execute_result"
    }
   ],
   "source": [
    "from datetime import datetime, timedelta\n",
    "\n",
    "def date_range(start_date, end_date):\n",
    "    '''\n",
    "    Возвращает список дней между датами start_date и end_date \n",
    "    в формате YYYY-MM-DD\n",
    "    '''\n",
    "    start_date_dt = datetime.strptime(start_date, '%Y-%m-%d').date()\n",
    "    days_delta = (datetime.strptime(end_date, '%Y-%m-%d').date() - start_date_dt).days\n",
    "    return [(start_date_dt + timedelta(days=i)).isoformat() for i in range(1, days_delta)]\n",
    "\n",
    "date_range('2017-03-14', '2017-03-20')"
   ]
  },
  {
   "cell_type": "code",
   "execution_count": null,
   "metadata": {},
   "outputs": [],
   "source": []
  },
  {
   "cell_type": "markdown",
   "metadata": {},
   "source": [
    "Задание 2\n",
    "\n",
    "Дополните функцию из первого задания проверкой на корректность дат. В случае неверного формата или если start_date > end_date должен возвращаться пустой список."
   ]
  },
  {
   "cell_type": "code",
   "execution_count": 71,
   "metadata": {},
   "outputs": [
    {
     "data": {
      "text/plain": [
       "['2017-03-15',\n",
       " '2017-03-16',\n",
       " '2017-03-17',\n",
       " '2017-03-18',\n",
       " '2017-03-19',\n",
       " '2017-03-20']"
      ]
     },
     "execution_count": 71,
     "metadata": {},
     "output_type": "execute_result"
    }
   ],
   "source": [
    "from datetime import datetime as dt, timedelta as td\n",
    "\n",
    "def date_range(start_date, end_date):\n",
    "    '''\n",
    "    Возвращает список дней между датами start_date и end_date\n",
    "    в формате YYYY-MM-DD\n",
    "    '''\n",
    "    try:\n",
    "        start_dt = dt.strptime(start_date, '%Y-%m-%d').date()\n",
    "        days_delta = round(((dt.strptime(end_date, '%Y-%m-%d').date() - start_dt).days**0.5)**2) #вычисление разницы в днях между end_date и start_date и проверка, что end_date > start_date\n",
    "        return [(start_dt + td(days=i)).isoformat() for i in range(1, days_delta)]\n",
    "    except: return []\n",
    "\n",
    "date_range('2017-03-14', '2017-03-21')"
   ]
  },
  {
   "cell_type": "code",
   "execution_count": 72,
   "metadata": {},
   "outputs": [
    {
     "data": {
      "text/plain": [
       "[]"
      ]
     },
     "execution_count": 72,
     "metadata": {},
     "output_type": "execute_result"
    }
   ],
   "source": [
    "dates_list('2017-03-21', '2017-03-14')"
   ]
  },
  {
   "cell_type": "code",
   "execution_count": 73,
   "metadata": {},
   "outputs": [
    {
     "data": {
      "text/plain": [
       "[]"
      ]
     },
     "execution_count": 73,
     "metadata": {},
     "output_type": "execute_result"
    }
   ],
   "source": [
    "dates_list('2017-13-14', '2018-03-21')"
   ]
  },
  {
   "cell_type": "code",
   "execution_count": null,
   "metadata": {},
   "outputs": [],
   "source": []
  },
  {
   "cell_type": "markdown",
   "metadata": {},
   "source": [
    "Задание 3\n",
    "\n",
    "Дан поток дат в формате YYYY-MM-DD, в которых встречаются некорректные значения:\n",
    "stream = ['2018-04-02', '2018-02-29', '2018-19-02']\n",
    "\n",
    "Напишите функцию, которая проверяет эти даты на корректность. Т. е. для каждой даты возвращает True (дата корректна) или False (некорректная дата). "
   ]
  },
  {
   "cell_type": "code",
   "execution_count": 74,
   "metadata": {},
   "outputs": [
    {
     "data": {
      "text/plain": [
       "{'2018-04-02': True, '2018-02-29': False, '2018-19-02': False}"
      ]
     },
     "execution_count": 74,
     "metadata": {},
     "output_type": "execute_result"
    }
   ],
   "source": [
    "from datetime import datetime, timedelta\n",
    "\n",
    "stream = ['2018-04-02', '2018-02-29', '2018-19-02']\n",
    "\n",
    "def data_bool_iterator(lst):\n",
    "    '''\n",
    "    Возвращает итератор со значениями True (правильный формат даты) \n",
    "    или False (неправильный формат даты)\n",
    "    '''\n",
    "    for data in lst:\n",
    "        try:\n",
    "            datetime.strptime(data, '%Y-%m-%d')\n",
    "            yield True\n",
    "        except:\n",
    "            yield False\n",
    "        \n",
    "def check_data(lst):\n",
    "    '''\n",
    "    Возвращает словарь, где ключ - дата из списка stream, значение - \n",
    "    True (правильный формат даты) или False (неправильный формат даты)\n",
    "    '''\n",
    "    return dict(zip(lst, data_bool_iterator(lst)))\n",
    "    \n",
    "check_data(stream)"
   ]
  },
  {
   "cell_type": "code",
   "execution_count": null,
   "metadata": {},
   "outputs": [],
   "source": []
  },
  {
   "cell_type": "code",
   "execution_count": null,
   "metadata": {},
   "outputs": [],
   "source": []
  },
  {
   "cell_type": "markdown",
   "metadata": {},
   "source": [
    "Задание 4\n",
    "\n",
    "Напишите функцию, которая возвращает список дат с 1 по вчерашний день текущего месяца. Если дан 1 день месяца, то возвращается список дней прошлого месяца."
   ]
  },
  {
   "cell_type": "code",
   "execution_count": 75,
   "metadata": {},
   "outputs": [
    {
     "data": {
      "text/plain": [
       "['2018-12-01',\n",
       " '2018-12-02',\n",
       " '2018-12-03',\n",
       " '2018-12-04',\n",
       " '2018-12-05',\n",
       " '2018-12-06',\n",
       " '2018-12-07',\n",
       " '2018-12-08']"
      ]
     },
     "execution_count": 75,
     "metadata": {},
     "output_type": "execute_result"
    }
   ],
   "source": [
    "from datetime import date, timedelta\n",
    "\n",
    "def spisok_dat():\n",
    "    '''\n",
    "    Возвращает список дат с 1 по вчерашний день текущего месяца. \n",
    "    Если дан 1 день месяца, то возвращается список дней прошлого месяца.\n",
    "    '''\n",
    "    yesterday = date.today() - timedelta(1)\n",
    "    year = yesterday.year\n",
    "    month = yesterday.month\n",
    "    day = yesterday.day\n",
    "    return [date(year, month, i).isoformat() for i in range(1, day+1)]\n",
    "    \n",
    "spisok_dat()"
   ]
  },
  {
   "cell_type": "code",
   "execution_count": null,
   "metadata": {},
   "outputs": [],
   "source": []
  },
  {
   "cell_type": "code",
   "execution_count": 77,
   "metadata": {},
   "outputs": [
    {
     "data": {
      "text/plain": [
       "['2017-12-01',\n",
       " '2017-12-02',\n",
       " '2017-12-03',\n",
       " '2017-12-04',\n",
       " '2017-12-05',\n",
       " '2017-12-06',\n",
       " '2017-12-07',\n",
       " '2017-12-08',\n",
       " '2017-12-09',\n",
       " '2017-12-10',\n",
       " '2017-12-11',\n",
       " '2017-12-12',\n",
       " '2017-12-13',\n",
       " '2017-12-14',\n",
       " '2017-12-15',\n",
       " '2017-12-16',\n",
       " '2017-12-17',\n",
       " '2017-12-18',\n",
       " '2017-12-19',\n",
       " '2017-12-20',\n",
       " '2017-12-21',\n",
       " '2017-12-22',\n",
       " '2017-12-23',\n",
       " '2017-12-24',\n",
       " '2017-12-25',\n",
       " '2017-12-26',\n",
       " '2017-12-27',\n",
       " '2017-12-28',\n",
       " '2017-12-29',\n",
       " '2017-12-30',\n",
       " '2017-12-31']"
      ]
     },
     "execution_count": 77,
     "metadata": {},
     "output_type": "execute_result"
    }
   ],
   "source": [
    "# Та же самая функция для проверки (\"сегодняшний день\" необходимо передавать вручную).\n",
    "from datetime import date, datetime, timedelta\n",
    "\n",
    "def spisok_dat(date_str):\n",
    "    '''\n",
    "    Возвращает список дат с 1 по вчерашний день. \"Cегодняшний день\" необходимо передать ф-ии\n",
    "    в виде строки 'YYYY-MM-DD'. Если дан 1 день месяца, то возвращается список дней прошлого месяца.\n",
    "    '''\n",
    "    try:\n",
    "        yesterday = datetime.strptime(date_str, '%Y-%m-%d').date() - timedelta(1)\n",
    "        year = yesterday.year\n",
    "        month = yesterday.month\n",
    "        day = yesterday.day\n",
    "        return [date(year, month, i).isoformat() for i in range(1, day+1)]\n",
    "    except: return []\n",
    "\n",
    "spisok_dat('2018-01-01')"
   ]
  },
  {
   "cell_type": "code",
   "execution_count": 78,
   "metadata": {},
   "outputs": [
    {
     "data": {
      "text/plain": [
       "['2018-01-01']"
      ]
     },
     "execution_count": 78,
     "metadata": {},
     "output_type": "execute_result"
    }
   ],
   "source": [
    "spisok_dat('2018-01-02')"
   ]
  },
  {
   "cell_type": "code",
   "execution_count": 79,
   "metadata": {},
   "outputs": [
    {
     "data": {
      "text/plain": [
       "['2018-01-01',\n",
       " '2018-01-02',\n",
       " '2018-01-03',\n",
       " '2018-01-04',\n",
       " '2018-01-05',\n",
       " '2018-01-06',\n",
       " '2018-01-07',\n",
       " '2018-01-08',\n",
       " '2018-01-09',\n",
       " '2018-01-10']"
      ]
     },
     "execution_count": 79,
     "metadata": {},
     "output_type": "execute_result"
    }
   ],
   "source": [
    "spisok_dat('2018-01-11')"
   ]
  },
  {
   "cell_type": "code",
   "execution_count": null,
   "metadata": {},
   "outputs": [],
   "source": []
  },
  {
   "cell_type": "markdown",
   "metadata": {},
   "source": [
    "Задание 5\n",
    "\n",
    "Напишите функцию, которая возвращает точную дату в формате YYYY-MM-DD по фразе:\n",
    "1. 'today' - сегодняшнюю дату\n",
    "2. 'last monday' -  прошлый понедельник\n",
    "3. 'last day' - Последний день текущего месяца"
   ]
  },
  {
   "cell_type": "code",
   "execution_count": 80,
   "metadata": {},
   "outputs": [],
   "source": [
    "from datetime import date, timedelta\n",
    "\n",
    "def date_by_phrase(phrase):\n",
    "    '''\n",
    "    Возвращает точную дату в формате 'YYYY-MM-DD' по фразе:\n",
    "    'today' - сегодняшнюю дату\n",
    "    'last monday' - прошлый понедельник\n",
    "    'last day' - Последний день текущего месяца\n",
    "    '''\n",
    "    today = date.today()\n",
    "    year = today.year\n",
    "    month = today.month\n",
    "    if phrase.lower() == 'today':\n",
    "        return today.isoformat()\n",
    "    elif phrase.lower() == 'last monday':\n",
    "        return (today - timedelta(today.weekday() + 7)).isoformat()\n",
    "    elif phrase.lower() == 'last day':\n",
    "        if month == 12:\n",
    "            month = 1\n",
    "            year += 1\n",
    "        else:\n",
    "            month += 1\n",
    "        return (date(year, month, 1) - timedelta(1)).isoformat()\n",
    "    else:\n",
    "        print('Нет такой команды')"
   ]
  },
  {
   "cell_type": "code",
   "execution_count": 81,
   "metadata": {},
   "outputs": [
    {
     "data": {
      "text/plain": [
       "'2018-12-09'"
      ]
     },
     "execution_count": 81,
     "metadata": {},
     "output_type": "execute_result"
    }
   ],
   "source": [
    "date_by_phrase('today')"
   ]
  },
  {
   "cell_type": "code",
   "execution_count": 82,
   "metadata": {},
   "outputs": [
    {
     "data": {
      "text/plain": [
       "'2018-11-26'"
      ]
     },
     "execution_count": 82,
     "metadata": {},
     "output_type": "execute_result"
    }
   ],
   "source": [
    "date_by_phrase('last monday')"
   ]
  },
  {
   "cell_type": "code",
   "execution_count": 83,
   "metadata": {},
   "outputs": [
    {
     "data": {
      "text/plain": [
       "'2018-12-31'"
      ]
     },
     "execution_count": 83,
     "metadata": {},
     "output_type": "execute_result"
    }
   ],
   "source": [
    "date_by_phrase('last day')"
   ]
  },
  {
   "cell_type": "code",
   "execution_count": null,
   "metadata": {},
   "outputs": [],
   "source": []
  },
  {
   "cell_type": "markdown",
   "metadata": {},
   "source": [
    "Задание 6\n",
    "\n",
    "Напишите функцию, которая разбивает на недели с понедельника по воскресенье интервал дат между start_date и end_date. Считайте, что входные данные всегда корректны. В ответ должны входить только полные недели."
   ]
  },
  {
   "cell_type": "code",
   "execution_count": 88,
   "metadata": {},
   "outputs": [
    {
     "data": {
      "text/plain": [
       "[['2018-11-26',\n",
       "  '2018-11-27',\n",
       "  '2018-11-28',\n",
       "  '2018-11-29',\n",
       "  '2018-11-30',\n",
       "  '2018-12-01',\n",
       "  '2018-12-02'],\n",
       " ['2018-12-03',\n",
       "  '2018-12-04',\n",
       "  '2018-12-05',\n",
       "  '2018-12-06',\n",
       "  '2018-12-07',\n",
       "  '2018-12-08',\n",
       "  '2018-12-09']]"
      ]
     },
     "execution_count": 88,
     "metadata": {},
     "output_type": "execute_result"
    }
   ],
   "source": [
    "from datetime import date, datetime, timedelta\n",
    "\n",
    "def weeks_betw_dates(start_date, end_date):\n",
    "    '''\n",
    "    Разбивает на полные недели с понедельника по воскресенье интервал дат между start_date и end_date.\n",
    "    '''\n",
    "    start_dt = datetime.strptime(start_date, '%Y-%m-%d').date()\n",
    "    end_dt = datetime.strptime(end_date, '%Y-%m-%d').date()\n",
    "    if start_dt.weekday() == 0:\n",
    "        start_week_dt = start_dt\n",
    "    else:\n",
    "        start_week_dt = start_dt + timedelta(7 - start_dt.weekday())\n",
    "    if end_dt.weekday() == 6:\n",
    "        end_week_dt = end_dt\n",
    "    else:\n",
    "        end_week_dt = end_dt - timedelta(end_dt.weekday() + 1)\n",
    "    days_delta = (end_week_dt - start_week_dt).days + 1\n",
    "    if days_delta <= 0:\n",
    "        return 'Нет полных недель между указанными датами'\n",
    "    return [[(start_week_dt + timedelta(j)).isoformat() for j in range(i, i+7)] for i in range(0, days_delta, 7)]\n",
    "\n",
    "weeks_betw_dates('2018-11-25', '2018-12-09')"
   ]
  },
  {
   "cell_type": "code",
   "execution_count": null,
   "metadata": {},
   "outputs": [],
   "source": []
  }
 ],
 "metadata": {
  "kernelspec": {
   "display_name": "Python 3",
   "language": "python",
   "name": "python3"
  },
  "language_info": {
   "codemirror_mode": {
    "name": "ipython",
    "version": 3
   },
   "file_extension": ".py",
   "mimetype": "text/x-python",
   "name": "python",
   "nbconvert_exporter": "python",
   "pygments_lexer": "ipython3",
   "version": "3.6.5"
  }
 },
 "nbformat": 4,
 "nbformat_minor": 2
}
