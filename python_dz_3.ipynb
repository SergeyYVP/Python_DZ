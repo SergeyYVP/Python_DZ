{
 "cells": [
  {
   "cell_type": "markdown",
   "metadata": {},
   "source": [
    "Задание 1\n",
    "\n",
    "Дан список вида:\n",
    "data = [\n",
    "    [13, 25, 23, 34],\n",
    "    [45, 32, 44, 47],\n",
    "    [12, 33, 23, 95],\n",
    "    [13, 53, 34, 35],\n",
    "]\n",
    "\n",
    "Напишите функцию, которая возвращает сумму элементов на диагонали. Т. е. 13+32+23+35."
   ]
  },
  {
   "cell_type": "code",
   "execution_count": 38,
   "metadata": {},
   "outputs": [
    {
     "data": {
      "text/plain": [
       "103"
      ]
     },
     "execution_count": 38,
     "metadata": {},
     "output_type": "execute_result"
    }
   ],
   "source": [
    "data = [\n",
    "    [13, 25, 23, 34],\n",
    "    [45, 32, 44, 47],\n",
    "    [12, 33, 23, 95],\n",
    "    [13, 53, 34, 35],\n",
    "]\n",
    "\n",
    "def matrix_trace(matrix):\n",
    "    \"\"\"\n",
    "    Возвращает сумму элементов матрицы, расположенных на главной диагонали\n",
    "    \"\"\"\n",
    "    return sum(x[i] for i, x in enumerate(matrix))\n",
    "\n",
    "matrix_trace(data)"
   ]
  },
  {
   "cell_type": "code",
   "execution_count": null,
   "metadata": {},
   "outputs": [],
   "source": []
  },
  {
   "cell_type": "markdown",
   "metadata": {},
   "source": [
    "Задание 2\n",
    "\n",
    "Дан список чисел, часть из которых имеют строковый тип или содержат буквы. Напишите функцию, которая возвращает сумму квадратов элементов, которые могут быть числами.\n",
    "data = [1, '5', 'abc', 20, '2']"
   ]
  },
  {
   "cell_type": "code",
   "execution_count": 39,
   "metadata": {},
   "outputs": [
    {
     "data": {
      "text/plain": [
       "430"
      ]
     },
     "execution_count": 39,
     "metadata": {},
     "output_type": "execute_result"
    }
   ],
   "source": [
    "data = [1, '5', 'abc', 20, '2']\n",
    "\n",
    "def sqr_sum(lst):\n",
    "    \"\"\"\n",
    "    Возвращает сумму квадратов чисел (и числовых строк, преобразованных в число) из списка\n",
    "    \"\"\"\n",
    "    return sum(int(x)**2 for x in lst if str(x).isnumeric())\n",
    "\n",
    "sqr_sum(data)"
   ]
  },
  {
   "cell_type": "code",
   "execution_count": null,
   "metadata": {},
   "outputs": [],
   "source": []
  },
  {
   "cell_type": "markdown",
   "metadata": {},
   "source": [
    "Задание 3\n",
    "\n",
    "Напишите функцию, которая возвращает название валюты (поле 'Name') с максимальным значением курса с помощью сервиса https://www.cbr-xml-daily.ru/daily_json.js"
   ]
  },
  {
   "cell_type": "code",
   "execution_count": 40,
   "metadata": {},
   "outputs": [
    {
     "data": {
      "text/plain": [
       "'СДР (специальные права заимствования)'"
      ]
     },
     "execution_count": 40,
     "metadata": {},
     "output_type": "execute_result"
    }
   ],
   "source": [
    "import requests\n",
    "\n",
    "def max_exch_rate_cur():\n",
    "    \"\"\"\n",
    "    Возвращает название валюты с максимальным курсом обмена по отношению к рублю\n",
    "    на сегодняшний день\n",
    "    \"\"\"\n",
    "    currencies_info = requests.get('https://www.cbr-xml-daily.ru/daily_json.js').json()\n",
    "    currencies_exch_rates = {cur_info['Name']: cur_info['Value']/cur_info['Nominal'] \n",
    "                             for cur_info in currencies_info[\"Valute\"].values()}\n",
    "    return max(currencies_exch_rates, key=currencies_exch_rates.get)\n",
    "\n",
    "max_exch_rate_cur()"
   ]
  },
  {
   "cell_type": "code",
   "execution_count": null,
   "metadata": {},
   "outputs": [],
   "source": []
  },
  {
   "cell_type": "markdown",
   "metadata": {},
   "source": [
    "Задание 4\n",
    "\n",
    "Последнее упражнение с занятия\n",
    "1. Добавьте в класс еще один формат, который возвращает название валюты (например, 'Евро').\n",
    "\n",
    "2. Добавьте в класс параметр diff (со значениями True или False), который в случае значения True в методах eur и usd будет возвращать не курс валюты, а изменение по сравнению в прошлым значением."
   ]
  },
  {
   "cell_type": "code",
   "execution_count": 41,
   "metadata": {},
   "outputs": [],
   "source": [
    "import requests\n",
    "\n",
    "class Rate:\n",
    "    def __init__(self, format='value', diff=False):\n",
    "        self.format = format\n",
    "        self.diff = diff\n",
    "    \n",
    "    def exchange_rates(self):\n",
    "        \"\"\"\n",
    "        Возвращает ответ сервиса с информацией о валютах\n",
    "        \"\"\"\n",
    "        r = requests.get('https://www.cbr-xml-daily.ru/daily_json.js')\n",
    "        return r.json()['Valute']\n",
    "    \n",
    "    def make_format(self, currency):\n",
    "        \"\"\"\n",
    "        Возвращает информацию о валюте currency\n",
    "        \"\"\"\n",
    "        response = self.exchange_rates()\n",
    "        difference = round(response[currency]['Value'] - \n",
    "                        response[currency]['Previous'], 4)\n",
    "        \n",
    "        if currency in response:\n",
    "            \n",
    "            if not self.diff:\n",
    "                if self.format == 'full':\n",
    "                    return response[currency]\n",
    "                elif self.format == 'value':\n",
    "                    return response[currency]['Value']\n",
    "                elif self.format == 'name':\n",
    "                    return response[currency]['Name']\n",
    "                \n",
    "            else:\n",
    "                if self.format == 'full':\n",
    "                    response[currency]['Difference'] = difference\n",
    "                    return response[currency]\n",
    "                elif self.format == 'value':\n",
    "                    return difference\n",
    "                elif self.format == 'name':\n",
    "                    return {'Name': response[currency]['Name'],\n",
    "                           'Difference': difference}\n",
    "        \n",
    "        return 'Error'\n",
    "    \n",
    "    def eur(self):\n",
    "        \"\"\"Возвращает курс евро на сегодня в формате self.format\"\"\"\n",
    "        return self.make_format('EUR')\n",
    "    \n",
    "    def usd(self):\n",
    "        \"\"\"Возвращает курс доллара на сегодня в формате self.format\"\"\"\n",
    "        return self.make_format('USD')"
   ]
  },
  {
   "cell_type": "code",
   "execution_count": 42,
   "metadata": {},
   "outputs": [
    {
     "data": {
      "text/plain": [
       "0.2688"
      ]
     },
     "execution_count": 42,
     "metadata": {},
     "output_type": "execute_result"
    }
   ],
   "source": [
    "Rate('value', True).eur()"
   ]
  },
  {
   "cell_type": "code",
   "execution_count": 43,
   "metadata": {},
   "outputs": [
    {
     "data": {
      "text/plain": [
       "{'ID': 'R01235',\n",
       " 'NumCode': '840',\n",
       " 'CharCode': 'USD',\n",
       " 'Nominal': 1,\n",
       " 'Name': 'Доллар США',\n",
       " 'Value': 66.4467,\n",
       " 'Previous': 66.2921,\n",
       " 'Difference': 0.1546}"
      ]
     },
     "execution_count": 43,
     "metadata": {},
     "output_type": "execute_result"
    }
   ],
   "source": [
    "Rate('full', True).usd()"
   ]
  },
  {
   "cell_type": "code",
   "execution_count": 44,
   "metadata": {},
   "outputs": [
    {
     "data": {
      "text/plain": [
       "{'Name': 'Доллар США', 'Difference': 0.1546}"
      ]
     },
     "execution_count": 44,
     "metadata": {},
     "output_type": "execute_result"
    }
   ],
   "source": [
    "Rate('name', True).usd()"
   ]
  },
  {
   "cell_type": "code",
   "execution_count": 45,
   "metadata": {},
   "outputs": [
    {
     "data": {
      "text/plain": [
       "66.4467"
      ]
     },
     "execution_count": 45,
     "metadata": {},
     "output_type": "execute_result"
    }
   ],
   "source": [
    "Rate('value').usd()"
   ]
  },
  {
   "cell_type": "code",
   "execution_count": 46,
   "metadata": {},
   "outputs": [
    {
     "data": {
      "text/plain": [
       "{'ID': 'R01235',\n",
       " 'NumCode': '840',\n",
       " 'CharCode': 'USD',\n",
       " 'Nominal': 1,\n",
       " 'Name': 'Доллар США',\n",
       " 'Value': 66.4467,\n",
       " 'Previous': 66.2921}"
      ]
     },
     "execution_count": 46,
     "metadata": {},
     "output_type": "execute_result"
    }
   ],
   "source": [
    "Rate('full').usd()"
   ]
  },
  {
   "cell_type": "code",
   "execution_count": 47,
   "metadata": {},
   "outputs": [
    {
     "data": {
      "text/plain": [
       "'Евро'"
      ]
     },
     "execution_count": 47,
     "metadata": {},
     "output_type": "execute_result"
    }
   ],
   "source": [
    "Rate('name').eur()"
   ]
  },
  {
   "cell_type": "code",
   "execution_count": null,
   "metadata": {},
   "outputs": [],
   "source": []
  },
  {
   "cell_type": "markdown",
   "metadata": {},
   "source": [
    "Задание 5\n",
    "\n",
    "Напишите функцию, возвращающую сумму первых n чисел Фибоначчи"
   ]
  },
  {
   "cell_type": "code",
   "execution_count": 58,
   "metadata": {},
   "outputs": [
    {
     "data": {
      "text/plain": [
       "12"
      ]
     },
     "execution_count": 58,
     "metadata": {},
     "output_type": "execute_result"
    }
   ],
   "source": [
    "def fibo_seq(n):\n",
    "    \"\"\"\n",
    "    Возвращает итератор последовательности Фибоначчи.\n",
    "    Первый элемент равен 1.\n",
    "    \"\"\"\n",
    "    first = 1\n",
    "    second = 1\n",
    "    for i in range(n):\n",
    "        yield first\n",
    "        first, second = second, first+second\n",
    "\n",
    "def fibo_seq_sum(n):\n",
    "    \"\"\"\n",
    "    Возвращает сумму первых n элементов последовательности Фибоначчи,\n",
    "    используя итератор последовательности Фибоначчи fibo_seq(n).\n",
    "    \"\"\"\n",
    "    return sum(x for x in fibo_seq(n))\n",
    "\n",
    "fibo_seq_sum(5)"
   ]
  },
  {
   "cell_type": "code",
   "execution_count": null,
   "metadata": {},
   "outputs": [],
   "source": []
  },
  {
   "cell_type": "markdown",
   "metadata": {},
   "source": [
    "Задание 6\n",
    "\n",
    "Напишите функцию, преобразующую произвольный список вида ['2018-01-01', 'yandex', 'cpc', 100] в словарь {'2018-01-01': {'yandex': {'cpc': 100}}}"
   ]
  },
  {
   "cell_type": "code",
   "execution_count": 65,
   "metadata": {},
   "outputs": [
    {
     "data": {
      "text/plain": [
       "{'2018-01-01': {'yandex': {'cpc': 100}}}"
      ]
     },
     "execution_count": 65,
     "metadata": {},
     "output_type": "execute_result"
    }
   ],
   "source": [
    "lst = ['2018-01-01', 'yandex', 'cpc', 100] \n",
    "\n",
    "def lst_to_dict(lst):\n",
    "    \"\"\"\n",
    "    Возвращает словарь, сформированный из списка, таким образом,\n",
    "    что каждый элемент списка, кроме последнего - является ключом\n",
    "    вложенного словаря.\n",
    "    \"\"\"\n",
    "    if len(lst) > 1:\n",
    "        diction = {}\n",
    "        while len(lst) - 1:\n",
    "            key = lst.pop(0)\n",
    "            if len(lst) > 1:\n",
    "                diction[key] = lst_to_dict(lst)\n",
    "            else:\n",
    "                diction[key] = lst[0]\n",
    "        return diction\n",
    "    else:\n",
    "        return False\n",
    "\n",
    "lst_to_dict(lst)"
   ]
  },
  {
   "cell_type": "code",
   "execution_count": null,
   "metadata": {},
   "outputs": [],
   "source": []
  }
 ],
 "metadata": {
  "kernelspec": {
   "display_name": "Python 3",
   "language": "python",
   "name": "python3"
  },
  "language_info": {
   "codemirror_mode": {
    "name": "ipython",
    "version": 3
   },
   "file_extension": ".py",
   "mimetype": "text/x-python",
   "name": "python",
   "nbconvert_exporter": "python",
   "pygments_lexer": "ipython3",
   "version": "3.7.0"
  }
 },
 "nbformat": 4,
 "nbformat_minor": 2
}
